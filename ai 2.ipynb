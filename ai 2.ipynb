{
 "cells": [
  {
   "cell_type": "code",
   "execution_count": 7,
   "id": "734714e4",
   "metadata": {},
   "outputs": [
    {
     "name": "stdout",
     "output_type": "stream",
     "text": [
      "[2002, 2009, 2016, 2023, 2037, 2044, 2051, 2058, 2072, 2079, 2086, 2093, 2107, 2114, 2121, 2128, 2142, 2149, 2156, 2163, 2177, 2184, 2191, 2198, 2212, 2219, 2226, 2233, 2247, 2254, 2261, 2268, 2282, 2289, 2296, 2303, 2317, 2324, 2331, 2338, 2352, 2359, 2366, 2373, 2387, 2394, 2401, 2408, 2422, 2429, 2436, 2443, 2457, 2464, 2471, 2478, 2492, 2499, 2506, 2513, 2527, 2534, 2541, 2548, 2562, 2569, 2576, 2583, 2597, 2604, 2611, 2618, 2632, 2639, 2646, 2653, 2667, 2674, 2681, 2688, 2702, 2709, 2716, 2723, 2737, 2744, 2751, 2758, 2772, 2779, 2786, 2793, 2807, 2814, 2821, 2828, 2842, 2849, 2856, 2863, 2877, 2884, 2891, 2898, 2912, 2919, 2926, 2933, 2947, 2954, 2961, 2968, 2982, 2989, 2996, 3003, 3017, 3024, 3031, 3038, 3052, 3059, 3066, 3073, 3087, 3094, 3101, 3108, 3122, 3129, 3136, 3143, 3157, 3164, 3171, 3178, 3192, 3199]\n"
     ]
    }
   ],
   "source": [
    "x=2000\n",
    "y=3200\n",
    "list=[]\n",
    "for i in range(2000,3200):\n",
    "    if i % 7 == 0 and i%5!=0:\n",
    "        list.append(i)        \n",
    "print(list)"
   ]
  },
  {
   "cell_type": "code",
   "execution_count": 18,
   "id": "2bcf8a91",
   "metadata": {},
   "outputs": [
    {
     "name": "stdout",
     "output_type": "stream",
     "text": [
      "please enter fact num5\n",
      "120\n"
     ]
    }
   ],
   "source": [
    "def fact(x):\n",
    "    if x ==0: \n",
    "        return 1\n",
    "    else:\n",
    "        return x*fact(x-1)\n",
    "x=int(input(\"please enter fact num\"))\n",
    "print(fact(x))\n"
   ]
  },
  {
   "cell_type": "code",
   "execution_count": 25,
   "id": "1ce42c36",
   "metadata": {},
   "outputs": [
    {
     "name": "stdout",
     "output_type": "stream",
     "text": [
      "please enter x8\n",
      "{1: 1, 2: 4, 3: 9, 4: 16, 5: 25, 6: 36, 7: 49, 8: 64}\n"
     ]
    }
   ],
   "source": [
    "x=int(input(\"please enter x\"))\n",
    "dict={}\n",
    "for i in range(1,x+1):\n",
    "    dict[i]=i*i\n",
    "print(dict)"
   ]
  },
  {
   "cell_type": "code",
   "execution_count": 10,
   "id": "4cf7ec51",
   "metadata": {},
   "outputs": [
    {
     "name": "stdout",
     "output_type": "stream",
     "text": [
      "please enter  word world\n",
      "please enter x0\n",
      "orld\n"
     ]
    }
   ],
   "source": [
    "y=str(input(\"please enter  word \"))\n",
    "x=int(input(\"please enter x\"))\n",
    "if len(y) > x:\n",
    "    y= y[0 : x : ] + y[x + 1 : :]\n",
    "print(y)\n",
    "\n"
   ]
  },
  {
   "cell_type": "code",
   "execution_count": 102,
   "id": "db0daa89",
   "metadata": {},
   "outputs": [
    {
     "name": "stdout",
     "output_type": "stream",
     "text": [
      "[[0, 1], [2, 3], [4, 5]]\n"
     ]
    }
   ],
   "source": [
    "import numpy as np\n",
    "array1=np.array([[0 ,1], [2, 3], [4 ,5]])\n",
    "print(array1.tolist())"
   ]
  },
  {
   "cell_type": "code",
   "execution_count": 90,
   "id": "184034ce",
   "metadata": {},
   "outputs": [
    {
     "name": "stdout",
     "output_type": "stream",
     "text": [
      "[[ 1. -1.]\n",
      " [-1.  1.]]\n"
     ]
    }
   ],
   "source": [
    "import numpy as np\n",
    "array1=np.array( [0,1, 2]) \n",
    "array2=np.array([2 ,1 ,0]) \n",
    "print(np.cov(array1,array2))\n"
   ]
  },
  {
   "cell_type": "code",
   "execution_count": 88,
   "id": "ae238f91",
   "metadata": {},
   "outputs": [
    {
     "name": "stdout",
     "output_type": "stream",
     "text": [
      "please enter how many num you want to calc4\n",
      "please enter num u want to calc100\n",
      "please enter num u want to calc150\n",
      "please enter num u want to calc200\n",
      "please enter num u want to calc250\n",
      "[18, 22, 25, 28]\n"
     ]
    }
   ],
   "source": [
    "h=30\n",
    "c=50\n",
    "x=int(input(\"please enter how many num you want to calc\"))\n",
    "list=[]\n",
    "for i in range(x):\n",
    "    y=int(input(\"please enter num u want to calc\"))\n",
    "    list.append(int(pow((2 * 50 *y)/30,0.5)))\n",
    "print(list)"
   ]
  },
  {
   "cell_type": "code",
   "execution_count": null,
   "id": "4a420caf",
   "metadata": {},
   "outputs": [],
   "source": []
  },
  {
   "cell_type": "code",
   "execution_count": null,
   "id": "de200ef6",
   "metadata": {},
   "outputs": [],
   "source": []
  }
 ],
 "metadata": {
  "kernelspec": {
   "display_name": "Python 3 (ipykernel)",
   "language": "python",
   "name": "python3"
  },
  "language_info": {
   "codemirror_mode": {
    "name": "ipython",
    "version": 3
   },
   "file_extension": ".py",
   "mimetype": "text/x-python",
   "name": "python",
   "nbconvert_exporter": "python",
   "pygments_lexer": "ipython3",
   "version": "3.9.12"
  }
 },
 "nbformat": 4,
 "nbformat_minor": 5
}
